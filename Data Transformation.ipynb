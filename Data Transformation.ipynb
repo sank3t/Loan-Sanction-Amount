{
 "cells": [
  {
   "cell_type": "markdown",
   "metadata": {},
   "source": [
    "### Missing value imputation\n",
    "\n",
    "* Property_location can easily be filled by using property location and property id\n",
    "* Numeric columns have an outlier value as -999. It will be treated as null and imputed accordingly\n",
    "\n",
    "### Feature Generation\n",
    "\n",
    "* Percentage of loan amount sanctioned as per the requested amount\n",
    "* Boolean variable representing whether customer and property location is same or not"
   ]
  }
 ],
 "metadata": {
  "kernelspec": {
   "display_name": "Python 3",
   "language": "python",
   "name": "python3"
  },
  "language_info": {
   "codemirror_mode": {
    "name": "ipython",
    "version": 3
   },
   "file_extension": ".py",
   "mimetype": "text/x-python",
   "name": "python",
   "nbconvert_exporter": "python",
   "pygments_lexer": "ipython3",
   "version": "3.8.5"
  }
 },
 "nbformat": 4,
 "nbformat_minor": 4
}
